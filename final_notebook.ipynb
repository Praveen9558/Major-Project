{
 "cells": [
  {
   "cell_type": "markdown",
   "metadata": {},
   "source": [
    "### importing necessary libraries"
   ]
  },
  {
   "cell_type": "code",
   "execution_count": 1,
   "metadata": {},
   "outputs": [],
   "source": [
    "import pandas as pd\n",
    "import numpy as np \n",
    "import itertools\n",
    "import keras\n",
    "from sklearn import metrics\n",
    "from sklearn.metrics import confusion_matrix\n",
    "from keras.preprocessing.image import ImageDataGenerator, img_to_array, load_img \n",
    "from keras.models import Sequential \n",
    "from keras import optimizers\n",
    "from keras.preprocessing import image\n",
    "from keras.layers import Dropout, Flatten, Dense  \n",
    "from keras import applications  \n",
    "from keras.utils.np_utils import to_categorical  \n",
    "import matplotlib.pyplot as plt \n",
    "import matplotlib.image as mpimg\n",
    "%matplotlib inline\n",
    "import math  \n",
    "import datetime\n",
    "import time"
   ]
  },
  {
   "cell_type": "code",
   "execution_count": 2,
   "metadata": {},
   "outputs": [],
   "source": [
    "#Default dimensions we found online\n",
    "img_width, img_height = 224, 224  \n",
    "   \n",
    "#Create a bottleneck file\n",
    "top_model_weights_path = 'bottleneck_fc_model.h5' \n",
    "\n",
    "# loading up our datasets\n",
    "train_data_dir = 'C:\\\\Users\\\\Vinayak\\\\OneDrive\\Desktop\\\\Sourabh project\\\\dataset\\\\train'  \n",
    "validation_data_dir = 'C:\\\\Users\\\\Vinayak\\\\OneDrive\\Desktop\\\\Sourabh project\\\\dataset\\\\validation'  \n",
    "test_data_dir = 'C:\\\\Users\\\\Vinayak\\\\OneDrive\\Desktop\\\\Sourabh project\\\\dataset\\\\test'\n",
    "   \n",
    "# number of epochs to train top model  \n",
    "epochs = 7 #this can been changed after multiple model run  \n",
    "# batch size used by flow_from_directory and predict_generator  \n",
    "batch_size = 50  "
   ]
  },
  {
   "cell_type": "code",
   "execution_count": 3,
   "metadata": {},
   "outputs": [],
   "source": [
    "#Loading vgc16 model\n",
    "vgg16 = applications.VGG16(include_top=False, weights='imagenet') "
   ]
  },
  {
   "cell_type": "code",
   "execution_count": 4,
   "metadata": {},
   "outputs": [],
   "source": [
    "datagen = ImageDataGenerator(rescale=1. / 255)  "
   ]
  },
  {
   "cell_type": "markdown",
   "metadata": {},
   "source": [
    "# Creation of weights/features with VGG16"
   ]
  },
  {
   "cell_type": "code",
   "execution_count": 5,
   "metadata": {},
   "outputs": [
    {
     "name": "stdout",
     "output_type": "stream",
     "text": [
      "Found 10 images belonging to 6 classes.\n"
     ]
    },
    {
     "name": "stderr",
     "output_type": "stream",
     "text": [
      "C:\\Users\\Vinayak\\anaconda3\\envs\\Tensorflow\\lib\\site-packages\\tensorflow\\python\\keras\\engine\\training.py:2001: UserWarning: `Model.predict_generator` is deprecated and will be removed in a future version. Please use `Model.predict`, which supports generators.\n",
      "  warnings.warn('`Model.predict_generator` is deprecated and '\n"
     ]
    },
    {
     "name": "stdout",
     "output_type": "stream",
     "text": [
      "Time:  0:00:07.638421\n"
     ]
    }
   ],
   "source": [
    "\n",
    "\n",
    "start = datetime.datetime.now()\n",
    "   \n",
    "generator = datagen.flow_from_directory(  \n",
    "     train_data_dir,  \n",
    "     target_size=(img_width, img_height),  \n",
    "     batch_size=batch_size,  \n",
    "     class_mode=None,  \n",
    "     shuffle=False)  \n",
    "   \n",
    "nb_train_samples = len(generator.filenames)  \n",
    "num_classes = len(generator.class_indices)  \n",
    "   \n",
    "predict_size_train = int(math.ceil(nb_train_samples / batch_size))  \n",
    "   \n",
    "bottleneck_features_train = vgg16.predict_generator(generator, predict_size_train)  \n",
    "   \n",
    "np.save('bottleneck_features_train.npy', bottleneck_features_train)\n",
    "end= datetime.datetime.now()\n",
    "elapsed= end-start\n",
    "print ('Time: ', elapsed)"
   ]
  },
  {
   "cell_type": "code",
   "execution_count": 7,
   "metadata": {},
   "outputs": [
    {
     "name": "stdout",
     "output_type": "stream",
     "text": [
      "Found 10 images belonging to 6 classes.\n",
      "Time:  0:00:00.253623\n"
     ]
    }
   ],
   "source": [
    "start = datetime.datetime.now()\n",
    "generator = datagen.flow_from_directory(  \n",
    "     validation_data_dir,  \n",
    "     target_size=(img_width, img_height),  \n",
    "     batch_size=batch_size,  \n",
    "     class_mode=None,  \n",
    "     shuffle=False)  \n",
    "   \n",
    "nb_validation_samples = len(generator.filenames)  \n",
    "   \n",
    "predict_size_validation = int(math.ceil(nb_validation_samples / batch_size))  \n",
    "   \n",
    "bottleneck_features_validation = vgg16.predict_generator(  \n",
    "     generator, predict_size_validation)  \n",
    "   \n",
    "np.save('bottleneck_features_validation.npy', bottleneck_features_validation) \n",
    "end= datetime.datetime.now()\n",
    "elapsed= end-start\n",
    "print ('Time: ', elapsed)"
   ]
  },
  {
   "cell_type": "code",
   "execution_count": 9,
   "metadata": {},
   "outputs": [
    {
     "name": "stdout",
     "output_type": "stream",
     "text": [
      "Found 10 images belonging to 6 classes.\n",
      "Time:  0:00:00.260019\n"
     ]
    }
   ],
   "source": [
    "\n",
    "start = datetime.datetime.now()\n",
    "generator = datagen.flow_from_directory(  \n",
    "     test_data_dir,  \n",
    "     target_size=(img_width, img_height),  \n",
    "     batch_size=batch_size,  \n",
    "     class_mode=None,  \n",
    "     shuffle=False)  \n",
    "   \n",
    "nb_test_samples = len(generator.filenames)  \n",
    "   \n",
    "predict_size_test = int(math.ceil(nb_test_samples / batch_size))  \n",
    "   \n",
    "bottleneck_features_test = vgg16.predict_generator(  \n",
    "     generator, predict_size_test)  \n",
    "   \n",
    "np.save('bottleneck_features_test.npy', bottleneck_features_test) \n",
    "end= datetime.datetime.now()\n",
    "elapsed= end-start\n",
    "print ('Time: ', elapsed)"
   ]
  },
  {
   "cell_type": "markdown",
   "metadata": {},
   "source": [
    "# Loading training, validation and testing data"
   ]
  },
  {
   "cell_type": "code",
   "execution_count": 10,
   "metadata": {},
   "outputs": [
    {
     "name": "stdout",
     "output_type": "stream",
     "text": [
      "Found 10 images belonging to 6 classes.\n"
     ]
    }
   ],
   "source": [
    "#training data\n",
    "generator_top = datagen.flow_from_directory(  \n",
    "         train_data_dir,  \n",
    "         target_size=(img_width, img_height),  \n",
    "         batch_size=batch_size,  \n",
    "         class_mode='categorical',  \n",
    "         shuffle=False)  \n",
    "   \n",
    "nb_train_samples = len(generator_top.filenames)  \n",
    "num_classes = len(generator_top.class_indices)  \n",
    "   \n",
    "# load the bottleneck features saved earlier  \n",
    "train_data = np.load('bottleneck_features_train.npy')  \n",
    "   \n",
    "# get the class lebels for the training data, in the original order  \n",
    "train_labels = generator_top.classes  \n",
    "   \n",
    "# convert the training labels to categorical vectors  \n",
    "train_labels = to_categorical(train_labels, num_classes=num_classes) "
   ]
  },
  {
   "cell_type": "code",
   "execution_count": 11,
   "metadata": {},
   "outputs": [
    {
     "name": "stdout",
     "output_type": "stream",
     "text": [
      "Found 10 images belonging to 6 classes.\n"
     ]
    }
   ],
   "source": [
    "#validation data\n",
    "generator_top = datagen.flow_from_directory(  \n",
    "         validation_data_dir,  \n",
    "         target_size=(img_width, img_height),  \n",
    "         batch_size=batch_size,  \n",
    "         class_mode=None,  \n",
    "         shuffle=False)  \n",
    "   \n",
    "nb_validation_samples = len(generator_top.filenames)  \n",
    "   \n",
    "validation_data = np.load('bottleneck_features_validation.npy')  \n",
    "   \n",
    "\n",
    "validation_labels = generator_top.classes  \n",
    "validation_labels = to_categorical(validation_labels, num_classes=num_classes)  "
   ]
  },
  {
   "cell_type": "code",
   "execution_count": 12,
   "metadata": {},
   "outputs": [
    {
     "name": "stdout",
     "output_type": "stream",
     "text": [
      "Found 10 images belonging to 6 classes.\n"
     ]
    }
   ],
   "source": [
    "#testing data\n",
    "generator_top = datagen.flow_from_directory(  \n",
    "         test_data_dir,  \n",
    "         target_size=(img_width, img_height),  \n",
    "         batch_size=batch_size,  \n",
    "         class_mode=None,  \n",
    "         shuffle=False)  \n",
    "   \n",
    "nb_test_samples = len(generator_top.filenames)  \n",
    "   \n",
    "test_data = np.load('bottleneck_features_test.npy')  \n",
    "   \n",
    "\n",
    "test_labels = generator_top.classes  \n",
    "test_labels = to_categorical(test_labels, num_classes=num_classes)"
   ]
  },
  {
   "cell_type": "markdown",
   "metadata": {},
   "source": [
    "# Training of model"
   ]
  },
  {
   "cell_type": "code",
   "execution_count": 13,
   "metadata": {},
   "outputs": [
    {
     "name": "stderr",
     "output_type": "stream",
     "text": [
      "C:\\Users\\Vinayak\\anaconda3\\envs\\Tensorflow\\lib\\site-packages\\tensorflow\\python\\keras\\optimizer_v2\\optimizer_v2.py:374: UserWarning: The `lr` argument is deprecated, use `learning_rate` instead.\n",
      "  warnings.warn(\n"
     ]
    },
    {
     "name": "stdout",
     "output_type": "stream",
     "text": [
      "Epoch 1/7\n",
      "1/1 [==============================] - 1s 939ms/step - loss: 2.6285 - acc: 0.2000 - val_loss: 1.5562 - val_acc: 0.3000\n",
      "Epoch 2/7\n",
      "1/1 [==============================] - 0s 45ms/step - loss: 1.7258 - acc: 0.3000 - val_loss: 0.9758 - val_acc: 0.7000\n",
      "Epoch 3/7\n",
      "1/1 [==============================] - 0s 37ms/step - loss: 1.2099 - acc: 0.6000 - val_loss: 0.7830 - val_acc: 0.9000\n",
      "Epoch 4/7\n",
      "1/1 [==============================] - 0s 42ms/step - loss: 1.1974 - acc: 0.5000 - val_loss: 0.6873 - val_acc: 1.0000\n",
      "Epoch 5/7\n",
      "1/1 [==============================] - 0s 40ms/step - loss: 1.0236 - acc: 0.7000 - val_loss: 0.5454 - val_acc: 1.0000\n",
      "Epoch 6/7\n",
      "1/1 [==============================] - 0s 44ms/step - loss: 1.2252 - acc: 0.6000 - val_loss: 0.4131 - val_acc: 1.0000\n",
      "Epoch 7/7\n",
      "1/1 [==============================] - 0s 34ms/step - loss: 0.8622 - acc: 0.8000 - val_loss: 0.3489 - val_acc: 1.0000\n",
      "1/1 [==============================] - 0s 19ms/step - loss: 0.3489 - acc: 1.0000\n",
      "[INFO] accuracy: 100.00%\n",
      "[INFO] Loss: 0.34888386726379395\n",
      "Time:  0:00:01.399889\n"
     ]
    }
   ],
   "source": [
    "start = datetime.datetime.now()\n",
    "model = Sequential()  \n",
    "model.add(Flatten(input_shape=train_data.shape[1:]))  \n",
    "model.add(Dense(100, activation=keras.layers.LeakyReLU(alpha=0.3)))  \n",
    "model.add(Dropout(0.5))  \n",
    "model.add(Dense(50, activation=keras.layers.LeakyReLU(alpha=0.3)))  \n",
    "model.add(Dropout(0.3)) \n",
    "model.add(Dense(num_classes, activation='softmax'))  \n",
    "\n",
    "model.compile(loss='categorical_crossentropy',\n",
    "              optimizer=optimizers.RMSprop(lr=1e-4),\n",
    "              metrics=['acc'])  \n",
    "\n",
    "history = model.fit(train_data, train_labels,  \n",
    "      epochs=7,\n",
    "      batch_size=batch_size,  \n",
    "      validation_data=(validation_data, validation_labels))  \n",
    "\n",
    "model.save_weights(top_model_weights_path)  \n",
    "\n",
    "(eval_loss, eval_accuracy) = model.evaluate(  \n",
    " validation_data, validation_labels, batch_size=batch_size, verbose=1)\n",
    "\n",
    "print(\"[INFO] accuracy: {:.2f}%\".format(eval_accuracy * 100))  \n",
    "print(\"[INFO] Loss: {}\".format(eval_loss))  \n",
    "end= datetime.datetime.now()\n",
    "elapsed= end-start\n",
    "print ('Time: ', elapsed)"
   ]
  },
  {
   "cell_type": "code",
   "execution_count": 14,
   "metadata": {},
   "outputs": [
    {
     "name": "stdout",
     "output_type": "stream",
     "text": [
      "Model: \"sequential\"\n",
      "_________________________________________________________________\n",
      "Layer (type)                 Output Shape              Param #   \n",
      "=================================================================\n",
      "flatten (Flatten)            (None, 25088)             0         \n",
      "_________________________________________________________________\n",
      "dense (Dense)                (None, 100)               2508900   \n",
      "_________________________________________________________________\n",
      "dropout (Dropout)            (None, 100)               0         \n",
      "_________________________________________________________________\n",
      "dense_1 (Dense)              (None, 50)                5050      \n",
      "_________________________________________________________________\n",
      "dropout_1 (Dropout)          (None, 50)                0         \n",
      "_________________________________________________________________\n",
      "dense_2 (Dense)              (None, 6)                 306       \n",
      "=================================================================\n",
      "Total params: 2,514,256\n",
      "Trainable params: 2,514,256\n",
      "Non-trainable params: 0\n",
      "_________________________________________________________________\n"
     ]
    }
   ],
   "source": [
    "model.summary()"
   ]
  },
  {
   "cell_type": "code",
   "execution_count": 15,
   "metadata": {},
   "outputs": [
    {
     "data": {
      "image/png": "[encoded data removed]",
      "text/plain": [
       "<Figure size 432x288 with 1 Axes>"
      ]
     },
     "metadata": {
      "needs_background": "light"
     },
     "output_type": "display_data"
    },
    {
     "data": {
      "image/png": "[encoded data removed]",
      "text/plain": [
       "<Figure size 432x288 with 1 Axes>"
      ]
     },
     "metadata": {
      "needs_background": "light"
     },
     "output_type": "display_data"
    }
   ],
   "source": [
    "#Graphing our training and validation\n",
    "acc = history.history['acc']\n",
    "val_acc = history.history['val_acc']\n",
    "loss = history.history['loss']\n",
    "val_loss = history.history['val_loss']\n",
    "epochs = range(len(acc))\n",
    "plt.plot(epochs, acc, 'r', label='Training acc')\n",
    "plt.plot(epochs, val_acc, 'b', label='Validation acc')\n",
    "plt.title('Training and validation accuracy')\n",
    "plt.ylabel('accuracy')  \n",
    "plt.xlabel('epoch')\n",
    "plt.legend()\n",
    "plt.figure()\n",
    "plt.plot(epochs, loss, 'r', label='Training loss')\n",
    "plt.plot(epochs, val_loss, 'b', label='Validation loss')\n",
    "plt.title('Training and validation loss')\n",
    "plt.ylabel('loss')  \n",
    "plt.xlabel('epoch')\n",
    "plt.legend()\n",
    "plt.show()"
   ]
  },
  {
   "cell_type": "markdown",
   "metadata": {},
   "source": [
    "## Model Evaluation on Testing Set"
   ]
  },
  {
   "cell_type": "code",
   "execution_count": 16,
   "metadata": {
    "scrolled": true
   },
   "outputs": [
    {
     "name": "stdout",
     "output_type": "stream",
     "text": [
      "1/1 [==============================] - 0s 31ms/step - loss: 0.3489 - acc: 1.0000\n"
     ]
    },
    {
     "data": {
      "text/plain": [
       "[0.34888386726379395, 1.0]"
      ]
     },
     "execution_count": 16,
     "metadata": {},
     "output_type": "execute_result"
    }
   ],
   "source": [
    "model.evaluate(test_data, test_labels)"
   ]
  },
  {
   "cell_type": "markdown",
   "metadata": {},
   "source": [
    "## Classification metrics and Confusion Matrix"
   ]
  },
  {
   "cell_type": "markdown",
   "metadata": {},
   "source": [
    "### Classification Metrics"
   ]
  },
  {
   "cell_type": "code",
   "execution_count": 17,
   "metadata": {},
   "outputs": [
    {
     "name": "stdout",
     "output_type": "stream",
     "text": [
      "test data [[[[8.46596956e-02 0.00000000e+00 0.00000000e+00 ... 0.00000000e+00\n",
      "    7.11044908e-01 0.00000000e+00]\n",
      "   [1.33076757e-02 0.00000000e+00 0.00000000e+00 ... 0.00000000e+00\n",
      "    7.02504992e-01 0.00000000e+00]\n",
      "   [0.00000000e+00 0.00000000e+00 0.00000000e+00 ... 0.00000000e+00\n",
      "    7.12690294e-01 0.00000000e+00]\n",
      "   ...\n",
      "   [0.00000000e+00 0.00000000e+00 0.00000000e+00 ... 0.00000000e+00\n",
      "    6.90772295e-01 0.00000000e+00]\n",
      "   [0.00000000e+00 0.00000000e+00 0.00000000e+00 ... 0.00000000e+00\n",
      "    7.06664681e-01 0.00000000e+00]\n",
      "   [1.32140309e-01 0.00000000e+00 0.00000000e+00 ... 0.00000000e+00\n",
      "    7.84952343e-01 0.00000000e+00]]\n",
      "\n",
      "  [[0.00000000e+00 0.00000000e+00 0.00000000e+00 ... 0.00000000e+00\n",
      "    6.03830338e-01 0.00000000e+00]\n",
      "   [0.00000000e+00 0.00000000e+00 0.00000000e+00 ... 0.00000000e+00\n",
      "    5.48627436e-01 0.00000000e+00]\n",
      "   [0.00000000e+00 0.00000000e+00 0.00000000e+00 ... 0.00000000e+00\n",
      "    5.89884698e-01 0.00000000e+00]\n",
      "   ...\n",
      "   [0.00000000e+00 0.00000000e+00 0.00000000e+00 ... 0.00000000e+00\n",
      "    6.07396781e-01 0.00000000e+00]\n",
      "   [1.63286358e-01 0.00000000e+00 0.00000000e+00 ... 0.00000000e+00\n",
      "    5.27310431e-01 0.00000000e+00]\n",
      "   [1.74328208e-01 0.00000000e+00 0.00000000e+00 ... 0.00000000e+00\n",
      "    7.02175081e-01 0.00000000e+00]]\n",
      "\n",
      "  [[0.00000000e+00 0.00000000e+00 0.00000000e+00 ... 0.00000000e+00\n",
      "    3.90926898e-01 0.00000000e+00]\n",
      "   [0.00000000e+00 0.00000000e+00 0.00000000e+00 ... 0.00000000e+00\n",
      "    3.90582740e-01 0.00000000e+00]\n",
      "   [0.00000000e+00 0.00000000e+00 0.00000000e+00 ... 1.37764424e-01\n",
      "    1.01379704e+00 0.00000000e+00]\n",
      "   ...\n",
      "   [0.00000000e+00 0.00000000e+00 0.00000000e+00 ... 0.00000000e+00\n",
      "    9.88511384e-01 0.00000000e+00]\n",
      "   [0.00000000e+00 0.00000000e+00 0.00000000e+00 ... 0.00000000e+00\n",
      "    7.75499940e-01 0.00000000e+00]\n",
      "   [0.00000000e+00 0.00000000e+00 0.00000000e+00 ... 0.00000000e+00\n",
      "    5.83367229e-01 0.00000000e+00]]\n",
      "\n",
      "  ...\n",
      "\n",
      "  [[1.27194524e-01 0.00000000e+00 0.00000000e+00 ... 0.00000000e+00\n",
      "    0.00000000e+00 0.00000000e+00]\n",
      "   [9.49703574e-01 0.00000000e+00 0.00000000e+00 ... 3.05995256e-01\n",
      "    6.37283921e-02 0.00000000e+00]\n",
      "   [2.04435110e+00 0.00000000e+00 1.74506545e-01 ... 6.41680896e-01\n",
      "    3.66368651e-01 0.00000000e+00]\n",
      "   ...\n",
      "   [2.66547203e-01 0.00000000e+00 1.21827626e+00 ... 3.11788797e-01\n",
      "    2.14031756e-01 0.00000000e+00]\n",
      "   [0.00000000e+00 0.00000000e+00 4.94363487e-01 ... 3.18703204e-02\n",
      "    0.00000000e+00 0.00000000e+00]\n",
      "   [0.00000000e+00 0.00000000e+00 0.00000000e+00 ... 0.00000000e+00\n",
      "    2.36235797e-01 0.00000000e+00]]\n",
      "\n",
      "  [[9.73864198e-01 0.00000000e+00 0.00000000e+00 ... 0.00000000e+00\n",
      "    4.46877271e-01 0.00000000e+00]\n",
      "   [6.16375804e-01 0.00000000e+00 0.00000000e+00 ... 0.00000000e+00\n",
      "    5.71142316e-01 0.00000000e+00]\n",
      "   [3.02034140e-01 0.00000000e+00 0.00000000e+00 ... 0.00000000e+00\n",
      "    5.75684249e-01 0.00000000e+00]\n",
      "   ...\n",
      "   [0.00000000e+00 0.00000000e+00 0.00000000e+00 ... 4.24085349e-01\n",
      "    2.07820922e-01 0.00000000e+00]\n",
      "   [0.00000000e+00 0.00000000e+00 0.00000000e+00 ... 4.64787602e-01\n",
      "    5.84990501e-01 0.00000000e+00]\n",
      "   [1.78257376e-01 0.00000000e+00 0.00000000e+00 ... 0.00000000e+00\n",
      "    7.51918316e-01 0.00000000e+00]]\n",
      "\n",
      "  [[3.15629721e-01 0.00000000e+00 0.00000000e+00 ... 0.00000000e+00\n",
      "    7.45857537e-01 0.00000000e+00]\n",
      "   [0.00000000e+00 0.00000000e+00 0.00000000e+00 ... 0.00000000e+00\n",
      "    5.86979330e-01 0.00000000e+00]\n",
      "   [0.00000000e+00 0.00000000e+00 0.00000000e+00 ... 0.00000000e+00\n",
      "    5.48184097e-01 0.00000000e+00]\n",
      "   ...\n",
      "   [0.00000000e+00 0.00000000e+00 0.00000000e+00 ... 0.00000000e+00\n",
      "    6.11787438e-01 0.00000000e+00]\n",
      "   [0.00000000e+00 0.00000000e+00 0.00000000e+00 ... 0.00000000e+00\n",
      "    6.14207208e-01 0.00000000e+00]\n",
      "   [6.99486062e-02 0.00000000e+00 0.00000000e+00 ... 0.00000000e+00\n",
      "    6.37138009e-01 0.00000000e+00]]]\n",
      "\n",
      "\n",
      " [[[7.71938562e-02 0.00000000e+00 0.00000000e+00 ... 0.00000000e+00\n",
      "    6.18054271e-01 0.00000000e+00]\n",
      "   [0.00000000e+00 0.00000000e+00 0.00000000e+00 ... 0.00000000e+00\n",
      "    7.26341486e-01 0.00000000e+00]\n",
      "   [3.52675527e-01 0.00000000e+00 1.45696163e-01 ... 0.00000000e+00\n",
      "    5.91588199e-01 0.00000000e+00]\n",
      "   ...\n",
      "   [6.18791103e-01 0.00000000e+00 1.80363059e-02 ... 0.00000000e+00\n",
      "    9.16685760e-01 0.00000000e+00]\n",
      "   [3.43898177e-01 0.00000000e+00 0.00000000e+00 ... 0.00000000e+00\n",
      "    9.03286099e-01 0.00000000e+00]\n",
      "   [1.97740808e-01 0.00000000e+00 0.00000000e+00 ... 0.00000000e+00\n",
      "    7.67983794e-01 0.00000000e+00]]\n",
      "\n",
      "  [[2.50287235e-01 0.00000000e+00 0.00000000e+00 ... 0.00000000e+00\n",
      "    4.89828199e-01 0.00000000e+00]\n",
      "   [3.04630220e-01 0.00000000e+00 2.16837525e-01 ... 0.00000000e+00\n",
      "    5.29768169e-01 0.00000000e+00]\n",
      "   [1.57660460e+00 0.00000000e+00 5.08177161e-01 ... 0.00000000e+00\n",
      "    1.06142402e-01 0.00000000e+00]\n",
      "   ...\n",
      "   [1.35619354e+00 0.00000000e+00 2.77326524e-01 ... 6.76622465e-02\n",
      "    9.77653086e-01 0.00000000e+00]\n",
      "   [8.60904098e-01 0.00000000e+00 0.00000000e+00 ... 2.35219374e-02\n",
      "    1.10039818e+00 0.00000000e+00]\n",
      "   [2.37656057e-01 0.00000000e+00 0.00000000e+00 ... 0.00000000e+00\n",
      "    5.92166722e-01 0.00000000e+00]]\n",
      "\n",
      "  [[4.80938047e-01 0.00000000e+00 0.00000000e+00 ... 0.00000000e+00\n",
      "    3.74544322e-01 0.00000000e+00]\n",
      "   [1.80986077e-01 0.00000000e+00 0.00000000e+00 ... 0.00000000e+00\n",
      "    1.33828998e-01 0.00000000e+00]\n",
      "   [1.40036893e+00 0.00000000e+00 0.00000000e+00 ... 0.00000000e+00\n",
      "    0.00000000e+00 0.00000000e+00]\n",
      "   ...\n",
      "   [1.04820347e+00 0.00000000e+00 0.00000000e+00 ... 0.00000000e+00\n",
      "    2.39936352e-01 0.00000000e+00]\n",
      "   [6.05707526e-01 0.00000000e+00 0.00000000e+00 ... 0.00000000e+00\n",
      "    6.87766552e-01 0.00000000e+00]\n",
      "   [4.65193480e-01 0.00000000e+00 0.00000000e+00 ... 0.00000000e+00\n",
      "    3.64520967e-01 0.00000000e+00]]\n",
      "\n",
      "  ...\n",
      "\n",
      "  [[1.96612597e-01 0.00000000e+00 0.00000000e+00 ... 0.00000000e+00\n",
      "    6.94675267e-01 0.00000000e+00]\n",
      "   [0.00000000e+00 0.00000000e+00 2.39849687e-02 ... 0.00000000e+00\n",
      "    2.23323286e-01 0.00000000e+00]\n",
      "   [0.00000000e+00 0.00000000e+00 0.00000000e+00 ... 0.00000000e+00\n",
      "    0.00000000e+00 0.00000000e+00]\n",
      "   ...\n",
      "   [0.00000000e+00 0.00000000e+00 3.99250984e-02 ... 0.00000000e+00\n",
      "    5.98545432e-01 0.00000000e+00]\n",
      "   [1.16906977e+00 0.00000000e+00 1.32323027e-01 ... 0.00000000e+00\n",
      "    0.00000000e+00 0.00000000e+00]\n",
      "   [1.41617775e+00 0.00000000e+00 0.00000000e+00 ... 0.00000000e+00\n",
      "    4.84396517e-01 0.00000000e+00]]\n",
      "\n",
      "  [[6.64951801e-02 0.00000000e+00 0.00000000e+00 ... 0.00000000e+00\n",
      "    5.15098512e-01 0.00000000e+00]\n",
      "   [0.00000000e+00 0.00000000e+00 0.00000000e+00 ... 0.00000000e+00\n",
      "    0.00000000e+00 0.00000000e+00]\n",
      "   [0.00000000e+00 0.00000000e+00 0.00000000e+00 ... 0.00000000e+00\n",
      "    0.00000000e+00 0.00000000e+00]\n",
      "   ...\n",
      "   [0.00000000e+00 0.00000000e+00 1.37665570e-01 ... 0.00000000e+00\n",
      "    7.59235024e-02 0.00000000e+00]\n",
      "   [1.11221337e+00 0.00000000e+00 2.19377190e-01 ... 0.00000000e+00\n",
      "    0.00000000e+00 0.00000000e+00]\n",
      "   [1.33970356e+00 0.00000000e+00 0.00000000e+00 ... 0.00000000e+00\n",
      "    1.05955064e-01 0.00000000e+00]]\n",
      "\n",
      "  [[0.00000000e+00 0.00000000e+00 0.00000000e+00 ... 0.00000000e+00\n",
      "    7.39754140e-01 0.00000000e+00]\n",
      "   [0.00000000e+00 0.00000000e+00 0.00000000e+00 ... 0.00000000e+00\n",
      "    4.06545252e-01 0.00000000e+00]\n",
      "   [2.60030448e-01 0.00000000e+00 0.00000000e+00 ... 0.00000000e+00\n",
      "    3.95871550e-01 0.00000000e+00]\n",
      "   ...\n",
      "   [0.00000000e+00 0.00000000e+00 0.00000000e+00 ... 0.00000000e+00\n",
      "    3.25106800e-01 0.00000000e+00]\n",
      "   [1.62528872e-01 0.00000000e+00 0.00000000e+00 ... 0.00000000e+00\n",
      "    0.00000000e+00 0.00000000e+00]\n",
      "   [4.01611716e-01 0.00000000e+00 0.00000000e+00 ... 0.00000000e+00\n",
      "    5.14022291e-01 0.00000000e+00]]]\n",
      "\n",
      "\n",
      " [[[4.26569283e-01 0.00000000e+00 0.00000000e+00 ... 0.00000000e+00\n",
      "    5.68120599e-01 0.00000000e+00]\n",
      "   [2.78633326e-01 0.00000000e+00 0.00000000e+00 ... 0.00000000e+00\n",
      "    3.89565438e-01 0.00000000e+00]\n",
      "   [9.16505158e-02 0.00000000e+00 0.00000000e+00 ... 0.00000000e+00\n",
      "    0.00000000e+00 0.00000000e+00]\n",
      "   ...\n",
      "   [5.78095198e-01 0.00000000e+00 0.00000000e+00 ... 0.00000000e+00\n",
      "    6.37337565e-02 0.00000000e+00]\n",
      "   [2.95053065e-01 0.00000000e+00 0.00000000e+00 ... 0.00000000e+00\n",
      "    2.56676674e-01 0.00000000e+00]\n",
      "   [2.35905826e-01 0.00000000e+00 0.00000000e+00 ... 0.00000000e+00\n",
      "    7.03582764e-01 0.00000000e+00]]\n",
      "\n",
      "  [[3.44731092e-01 0.00000000e+00 0.00000000e+00 ... 0.00000000e+00\n",
      "    4.01097298e-01 0.00000000e+00]\n",
      "   [3.50344509e-01 0.00000000e+00 0.00000000e+00 ... 0.00000000e+00\n",
      "    4.67113853e-02 0.00000000e+00]\n",
      "   [6.63777292e-01 0.00000000e+00 0.00000000e+00 ... 0.00000000e+00\n",
      "    0.00000000e+00 0.00000000e+00]\n",
      "   ...\n",
      "   [1.03554022e+00 0.00000000e+00 0.00000000e+00 ... 0.00000000e+00\n",
      "    0.00000000e+00 0.00000000e+00]\n",
      "   [3.31622720e-01 0.00000000e+00 0.00000000e+00 ... 0.00000000e+00\n",
      "    7.94625282e-02 0.00000000e+00]\n",
      "   [3.23172092e-01 0.00000000e+00 0.00000000e+00 ... 0.00000000e+00\n",
      "    6.70008421e-01 0.00000000e+00]]\n",
      "\n",
      "  [[1.64347887e-03 0.00000000e+00 0.00000000e+00 ... 0.00000000e+00\n",
      "    3.78199935e-01 0.00000000e+00]\n",
      "   [2.17281312e-01 0.00000000e+00 0.00000000e+00 ... 0.00000000e+00\n",
      "    1.63831830e-01 0.00000000e+00]\n",
      "   [6.40969396e-01 0.00000000e+00 0.00000000e+00 ... 0.00000000e+00\n",
      "    4.55409288e-03 0.00000000e+00]\n",
      "   ...\n",
      "   [9.08937573e-01 0.00000000e+00 0.00000000e+00 ... 0.00000000e+00\n",
      "    4.23094630e-02 0.00000000e+00]\n",
      "   [1.90912187e-02 0.00000000e+00 0.00000000e+00 ... 0.00000000e+00\n",
      "    2.92884856e-01 0.00000000e+00]\n",
      "   [0.00000000e+00 0.00000000e+00 0.00000000e+00 ... 0.00000000e+00\n",
      "    5.29545009e-01 0.00000000e+00]]\n",
      "\n",
      "  ...\n",
      "\n",
      "  [[0.00000000e+00 0.00000000e+00 0.00000000e+00 ... 0.00000000e+00\n",
      "    3.70120347e-01 0.00000000e+00]\n",
      "   [0.00000000e+00 0.00000000e+00 0.00000000e+00 ... 0.00000000e+00\n",
      "    1.50166154e-02 0.00000000e+00]\n",
      "   [1.16341591e-01 0.00000000e+00 0.00000000e+00 ... 0.00000000e+00\n",
      "    0.00000000e+00 0.00000000e+00]\n",
      "   ...\n",
      "   [6.72036409e-02 0.00000000e+00 0.00000000e+00 ... 0.00000000e+00\n",
      "    2.90732503e-01 0.00000000e+00]\n",
      "   [0.00000000e+00 0.00000000e+00 0.00000000e+00 ... 0.00000000e+00\n",
      "    1.53440833e-01 0.00000000e+00]\n",
      "   [0.00000000e+00 0.00000000e+00 0.00000000e+00 ... 0.00000000e+00\n",
      "    5.23265064e-01 0.00000000e+00]]\n",
      "\n",
      "  [[2.59111375e-02 0.00000000e+00 0.00000000e+00 ... 0.00000000e+00\n",
      "    3.53008926e-01 0.00000000e+00]\n",
      "   [2.85201579e-01 0.00000000e+00 2.14668125e-01 ... 0.00000000e+00\n",
      "    0.00000000e+00 0.00000000e+00]\n",
      "   [6.55613542e-01 0.00000000e+00 0.00000000e+00 ... 0.00000000e+00\n",
      "    0.00000000e+00 0.00000000e+00]\n",
      "   ...\n",
      "   [0.00000000e+00 0.00000000e+00 0.00000000e+00 ... 0.00000000e+00\n",
      "    0.00000000e+00 0.00000000e+00]\n",
      "   [0.00000000e+00 0.00000000e+00 0.00000000e+00 ... 0.00000000e+00\n",
      "    0.00000000e+00 0.00000000e+00]\n",
      "   [0.00000000e+00 0.00000000e+00 0.00000000e+00 ... 0.00000000e+00\n",
      "    4.90940690e-01 0.00000000e+00]]\n",
      "\n",
      "  [[0.00000000e+00 0.00000000e+00 0.00000000e+00 ... 0.00000000e+00\n",
      "    6.36759937e-01 0.00000000e+00]\n",
      "   [4.01755273e-02 0.00000000e+00 5.45614958e-01 ... 0.00000000e+00\n",
      "    1.45713270e-01 0.00000000e+00]\n",
      "   [2.51568317e-01 0.00000000e+00 2.97646940e-01 ... 0.00000000e+00\n",
      "    0.00000000e+00 0.00000000e+00]\n",
      "   ...\n",
      "   [0.00000000e+00 0.00000000e+00 1.67772591e-01 ... 0.00000000e+00\n",
      "    0.00000000e+00 0.00000000e+00]\n",
      "   [0.00000000e+00 0.00000000e+00 1.11287832e-03 ... 0.00000000e+00\n",
      "    4.19514626e-01 0.00000000e+00]\n",
      "   [0.00000000e+00 0.00000000e+00 0.00000000e+00 ... 0.00000000e+00\n",
      "    5.96089840e-01 0.00000000e+00]]]\n",
      "\n",
      "\n",
      " ...\n",
      "\n",
      "\n",
      " [[[1.02133274e-01 0.00000000e+00 0.00000000e+00 ... 0.00000000e+00\n",
      "    5.36799312e-01 0.00000000e+00]\n",
      "   [0.00000000e+00 0.00000000e+00 0.00000000e+00 ... 0.00000000e+00\n",
      "    2.04888433e-01 0.00000000e+00]\n",
      "   [4.53131139e-01 0.00000000e+00 0.00000000e+00 ... 0.00000000e+00\n",
      "    0.00000000e+00 0.00000000e+00]\n",
      "   ...\n",
      "   [4.93588507e-01 0.00000000e+00 2.76320517e-01 ... 0.00000000e+00\n",
      "    7.87352145e-01 0.00000000e+00]\n",
      "   [0.00000000e+00 0.00000000e+00 0.00000000e+00 ... 0.00000000e+00\n",
      "    1.17562294e+00 0.00000000e+00]\n",
      "   [1.31185591e-01 0.00000000e+00 0.00000000e+00 ... 0.00000000e+00\n",
      "    1.02044034e+00 0.00000000e+00]]\n",
      "\n",
      "  [[5.93921840e-01 0.00000000e+00 0.00000000e+00 ... 0.00000000e+00\n",
      "    2.95861900e-01 0.00000000e+00]\n",
      "   [5.95918655e-01 0.00000000e+00 0.00000000e+00 ... 0.00000000e+00\n",
      "    3.70611638e-01 0.00000000e+00]\n",
      "   [2.72101939e-01 0.00000000e+00 0.00000000e+00 ... 1.59842640e-01\n",
      "    3.36902797e-01 0.00000000e+00]\n",
      "   ...\n",
      "   [1.26230717e-01 0.00000000e+00 2.69170046e-01 ... 0.00000000e+00\n",
      "    1.17344832e+00 0.00000000e+00]\n",
      "   [5.61913610e-01 0.00000000e+00 1.81230277e-01 ... 0.00000000e+00\n",
      "    1.11879051e+00 0.00000000e+00]\n",
      "   [6.79012537e-01 0.00000000e+00 0.00000000e+00 ... 0.00000000e+00\n",
      "    9.26850319e-01 0.00000000e+00]]\n",
      "\n",
      "  [[8.79662573e-01 0.00000000e+00 0.00000000e+00 ... 0.00000000e+00\n",
      "    2.04429150e-01 0.00000000e+00]\n",
      "   [9.32281971e-01 0.00000000e+00 0.00000000e+00 ... 0.00000000e+00\n",
      "    2.42084235e-01 0.00000000e+00]\n",
      "   [3.99758160e-01 0.00000000e+00 0.00000000e+00 ... 1.92675263e-01\n",
      "    2.80744076e-01 0.00000000e+00]\n",
      "   ...\n",
      "   [0.00000000e+00 0.00000000e+00 0.00000000e+00 ... 0.00000000e+00\n",
      "    5.36477029e-01 0.00000000e+00]\n",
      "   [1.66639328e-01 0.00000000e+00 0.00000000e+00 ... 0.00000000e+00\n",
      "    1.58675194e-01 0.00000000e+00]\n",
      "   [4.52960193e-01 0.00000000e+00 0.00000000e+00 ... 0.00000000e+00\n",
      "    3.95650059e-01 0.00000000e+00]]\n",
      "\n",
      "  ...\n",
      "\n",
      "  [[4.79760766e-01 0.00000000e+00 0.00000000e+00 ... 0.00000000e+00\n",
      "    3.11467350e-01 0.00000000e+00]\n",
      "   [5.63964367e-01 0.00000000e+00 0.00000000e+00 ... 0.00000000e+00\n",
      "    8.41027498e-03 0.00000000e+00]\n",
      "   [7.01794624e-02 0.00000000e+00 0.00000000e+00 ... 3.40024605e-02\n",
      "    2.22972006e-01 0.00000000e+00]\n",
      "   ...\n",
      "   [0.00000000e+00 0.00000000e+00 0.00000000e+00 ... 0.00000000e+00\n",
      "    3.33609164e-01 0.00000000e+00]\n",
      "   [0.00000000e+00 0.00000000e+00 0.00000000e+00 ... 0.00000000e+00\n",
      "    1.58079863e-02 0.00000000e+00]\n",
      "   [0.00000000e+00 0.00000000e+00 0.00000000e+00 ... 0.00000000e+00\n",
      "    6.06646240e-01 0.00000000e+00]]\n",
      "\n",
      "  [[2.80696005e-02 0.00000000e+00 0.00000000e+00 ... 0.00000000e+00\n",
      "    3.44197929e-01 0.00000000e+00]\n",
      "   [8.68851244e-02 0.00000000e+00 0.00000000e+00 ... 0.00000000e+00\n",
      "    0.00000000e+00 0.00000000e+00]\n",
      "   [5.81330776e-01 0.00000000e+00 0.00000000e+00 ... 0.00000000e+00\n",
      "    0.00000000e+00 0.00000000e+00]\n",
      "   ...\n",
      "   [4.53481436e-01 0.00000000e+00 0.00000000e+00 ... 0.00000000e+00\n",
      "    0.00000000e+00 0.00000000e+00]\n",
      "   [2.66671479e-02 0.00000000e+00 0.00000000e+00 ... 0.00000000e+00\n",
      "    0.00000000e+00 0.00000000e+00]\n",
      "   [0.00000000e+00 0.00000000e+00 0.00000000e+00 ... 0.00000000e+00\n",
      "    4.34138626e-01 0.00000000e+00]]\n",
      "\n",
      "  [[0.00000000e+00 0.00000000e+00 0.00000000e+00 ... 0.00000000e+00\n",
      "    7.08688676e-01 0.00000000e+00]\n",
      "   [0.00000000e+00 0.00000000e+00 0.00000000e+00 ... 0.00000000e+00\n",
      "    2.28542924e-01 0.00000000e+00]\n",
      "   [4.18904036e-01 0.00000000e+00 0.00000000e+00 ... 0.00000000e+00\n",
      "    0.00000000e+00 0.00000000e+00]\n",
      "   ...\n",
      "   [1.31629467e-01 0.00000000e+00 0.00000000e+00 ... 0.00000000e+00\n",
      "    0.00000000e+00 0.00000000e+00]\n",
      "   [0.00000000e+00 0.00000000e+00 0.00000000e+00 ... 0.00000000e+00\n",
      "    0.00000000e+00 0.00000000e+00]\n",
      "   [0.00000000e+00 0.00000000e+00 0.00000000e+00 ... 0.00000000e+00\n",
      "    6.53562665e-01 0.00000000e+00]]]\n",
      "\n",
      "\n",
      " [[[8.78992975e-02 0.00000000e+00 0.00000000e+00 ... 0.00000000e+00\n",
      "    7.05888271e-01 0.00000000e+00]\n",
      "   [0.00000000e+00 0.00000000e+00 0.00000000e+00 ... 0.00000000e+00\n",
      "    6.49232388e-01 0.00000000e+00]\n",
      "   [0.00000000e+00 0.00000000e+00 0.00000000e+00 ... 0.00000000e+00\n",
      "    5.97436488e-01 0.00000000e+00]\n",
      "   ...\n",
      "   [0.00000000e+00 0.00000000e+00 0.00000000e+00 ... 0.00000000e+00\n",
      "    6.67086363e-01 0.00000000e+00]\n",
      "   [0.00000000e+00 0.00000000e+00 0.00000000e+00 ... 0.00000000e+00\n",
      "    6.73675656e-01 0.00000000e+00]\n",
      "   [1.33002266e-01 0.00000000e+00 0.00000000e+00 ... 0.00000000e+00\n",
      "    7.67249644e-01 0.00000000e+00]]\n",
      "\n",
      "  [[8.47807080e-02 0.00000000e+00 0.00000000e+00 ... 0.00000000e+00\n",
      "    5.26604414e-01 0.00000000e+00]\n",
      "   [0.00000000e+00 0.00000000e+00 0.00000000e+00 ... 0.00000000e+00\n",
      "    4.58892018e-01 0.00000000e+00]\n",
      "   [0.00000000e+00 0.00000000e+00 6.72763586e-03 ... 0.00000000e+00\n",
      "    3.07912678e-01 0.00000000e+00]\n",
      "   ...\n",
      "   [0.00000000e+00 0.00000000e+00 5.11783600e-01 ... 0.00000000e+00\n",
      "    8.30784321e-01 0.00000000e+00]\n",
      "   [8.59266594e-02 0.00000000e+00 0.00000000e+00 ... 0.00000000e+00\n",
      "    8.53647411e-01 0.00000000e+00]\n",
      "   [1.45405889e-01 0.00000000e+00 0.00000000e+00 ... 0.00000000e+00\n",
      "    6.93540275e-01 0.00000000e+00]]\n",
      "\n",
      "  [[0.00000000e+00 0.00000000e+00 0.00000000e+00 ... 0.00000000e+00\n",
      "    4.99021053e-01 0.00000000e+00]\n",
      "   [0.00000000e+00 0.00000000e+00 0.00000000e+00 ... 1.47787750e-01\n",
      "    4.03615594e-01 0.00000000e+00]\n",
      "   [0.00000000e+00 0.00000000e+00 4.21535790e-01 ... 2.45310575e-01\n",
      "    4.02038693e-02 0.00000000e+00]\n",
      "   ...\n",
      "   [1.87552750e-01 0.00000000e+00 7.46329665e-01 ... 2.34501123e-01\n",
      "    6.34947598e-01 0.00000000e+00]\n",
      "   [0.00000000e+00 0.00000000e+00 0.00000000e+00 ... 0.00000000e+00\n",
      "    8.14062893e-01 0.00000000e+00]\n",
      "   [0.00000000e+00 0.00000000e+00 0.00000000e+00 ... 0.00000000e+00\n",
      "    6.71303451e-01 0.00000000e+00]]\n",
      "\n",
      "  ...\n",
      "\n",
      "  [[0.00000000e+00 0.00000000e+00 0.00000000e+00 ... 0.00000000e+00\n",
      "    4.39065874e-01 0.00000000e+00]\n",
      "   [0.00000000e+00 0.00000000e+00 0.00000000e+00 ... 0.00000000e+00\n",
      "    2.34209448e-01 0.00000000e+00]\n",
      "   [0.00000000e+00 0.00000000e+00 0.00000000e+00 ... 0.00000000e+00\n",
      "    0.00000000e+00 0.00000000e+00]\n",
      "   ...\n",
      "   [3.34963202e-03 0.00000000e+00 0.00000000e+00 ... 0.00000000e+00\n",
      "    4.39584434e-01 0.00000000e+00]\n",
      "   [0.00000000e+00 0.00000000e+00 0.00000000e+00 ... 0.00000000e+00\n",
      "    4.88273203e-01 0.00000000e+00]\n",
      "   [0.00000000e+00 0.00000000e+00 0.00000000e+00 ... 0.00000000e+00\n",
      "    4.70682830e-01 0.00000000e+00]]\n",
      "\n",
      "  [[0.00000000e+00 0.00000000e+00 0.00000000e+00 ... 0.00000000e+00\n",
      "    4.21045482e-01 0.00000000e+00]\n",
      "   [0.00000000e+00 0.00000000e+00 0.00000000e+00 ... 0.00000000e+00\n",
      "    2.36342669e-01 0.00000000e+00]\n",
      "   [6.63232327e-01 0.00000000e+00 0.00000000e+00 ... 0.00000000e+00\n",
      "    1.92431569e-01 0.00000000e+00]\n",
      "   ...\n",
      "   [5.69606900e-01 0.00000000e+00 0.00000000e+00 ... 0.00000000e+00\n",
      "    7.05594420e-02 0.00000000e+00]\n",
      "   [0.00000000e+00 0.00000000e+00 0.00000000e+00 ... 0.00000000e+00\n",
      "    0.00000000e+00 0.00000000e+00]\n",
      "   [0.00000000e+00 0.00000000e+00 0.00000000e+00 ... 0.00000000e+00\n",
      "    4.19663012e-01 0.00000000e+00]]\n",
      "\n",
      "  [[0.00000000e+00 0.00000000e+00 0.00000000e+00 ... 0.00000000e+00\n",
      "    7.29119480e-01 0.00000000e+00]\n",
      "   [2.44615391e-01 0.00000000e+00 0.00000000e+00 ... 0.00000000e+00\n",
      "    5.25852561e-01 0.00000000e+00]\n",
      "   [6.97663188e-01 0.00000000e+00 1.58134490e-01 ... 0.00000000e+00\n",
      "    3.03585947e-01 0.00000000e+00]\n",
      "   ...\n",
      "   [6.34575009e-01 0.00000000e+00 2.97445655e-02 ... 0.00000000e+00\n",
      "    0.00000000e+00 0.00000000e+00]\n",
      "   [4.11815703e-01 0.00000000e+00 0.00000000e+00 ... 0.00000000e+00\n",
      "    3.42530489e-01 0.00000000e+00]\n",
      "   [5.75548410e-02 0.00000000e+00 0.00000000e+00 ... 0.00000000e+00\n",
      "    6.45476580e-01 0.00000000e+00]]]\n",
      "\n",
      "\n",
      " [[[1.39169693e-01 0.00000000e+00 0.00000000e+00 ... 0.00000000e+00\n",
      "    5.62465191e-01 0.00000000e+00]\n",
      "   [0.00000000e+00 0.00000000e+00 0.00000000e+00 ... 0.00000000e+00\n",
      "    3.37499976e-01 0.00000000e+00]\n",
      "   [0.00000000e+00 0.00000000e+00 3.68987024e-01 ... 0.00000000e+00\n",
      "    0.00000000e+00 0.00000000e+00]\n",
      "   ...\n",
      "   [0.00000000e+00 0.00000000e+00 8.37175310e-01 ... 0.00000000e+00\n",
      "    5.77934444e-01 0.00000000e+00]\n",
      "   [0.00000000e+00 0.00000000e+00 0.00000000e+00 ... 0.00000000e+00\n",
      "    5.79270363e-01 0.00000000e+00]\n",
      "   [1.86890677e-01 0.00000000e+00 0.00000000e+00 ... 0.00000000e+00\n",
      "    7.43047118e-01 0.00000000e+00]]\n",
      "\n",
      "  [[1.94546223e-01 0.00000000e+00 0.00000000e+00 ... 0.00000000e+00\n",
      "    3.71148050e-01 0.00000000e+00]\n",
      "   [5.07674664e-02 0.00000000e+00 2.55537957e-01 ... 9.47742239e-02\n",
      "    0.00000000e+00 0.00000000e+00]\n",
      "   [5.41832566e-01 0.00000000e+00 1.34989548e+00 ... 0.00000000e+00\n",
      "    0.00000000e+00 0.00000000e+00]\n",
      "   ...\n",
      "   [3.83216143e-02 0.00000000e+00 1.59333682e+00 ... 0.00000000e+00\n",
      "    8.81237984e-01 0.00000000e+00]\n",
      "   [0.00000000e+00 0.00000000e+00 3.12849909e-01 ... 0.00000000e+00\n",
      "    1.07003045e+00 0.00000000e+00]\n",
      "   [2.02139959e-01 0.00000000e+00 0.00000000e+00 ... 0.00000000e+00\n",
      "    6.64497495e-01 0.00000000e+00]]\n",
      "\n",
      "  [[0.00000000e+00 0.00000000e+00 0.00000000e+00 ... 0.00000000e+00\n",
      "    3.90073478e-01 0.00000000e+00]\n",
      "   [0.00000000e+00 0.00000000e+00 0.00000000e+00 ... 0.00000000e+00\n",
      "    0.00000000e+00 0.00000000e+00]\n",
      "   [7.31281817e-01 0.00000000e+00 2.39721000e-01 ... 5.08593693e-02\n",
      "    0.00000000e+00 0.00000000e+00]\n",
      "   ...\n",
      "   [5.16134143e-01 0.00000000e+00 7.96775460e-01 ... 0.00000000e+00\n",
      "    1.08074105e+00 0.00000000e+00]\n",
      "   [0.00000000e+00 0.00000000e+00 2.97188401e-01 ... 0.00000000e+00\n",
      "    1.32879758e+00 0.00000000e+00]\n",
      "   [0.00000000e+00 0.00000000e+00 0.00000000e+00 ... 0.00000000e+00\n",
      "    7.13162601e-01 0.00000000e+00]]\n",
      "\n",
      "  ...\n",
      "\n",
      "  [[1.58770561e-01 0.00000000e+00 0.00000000e+00 ... 0.00000000e+00\n",
      "    4.61677134e-01 0.00000000e+00]\n",
      "   [1.84365928e-01 0.00000000e+00 0.00000000e+00 ... 0.00000000e+00\n",
      "    1.38783753e-01 0.00000000e+00]\n",
      "   [9.51969564e-01 1.18154228e-01 0.00000000e+00 ... 0.00000000e+00\n",
      "    1.79382980e-01 0.00000000e+00]\n",
      "   ...\n",
      "   [1.07243288e+00 0.00000000e+00 0.00000000e+00 ... 0.00000000e+00\n",
      "    5.21617413e-01 0.00000000e+00]\n",
      "   [4.67005938e-01 0.00000000e+00 0.00000000e+00 ... 0.00000000e+00\n",
      "    1.31099343e+00 0.00000000e+00]\n",
      "   [3.82855177e-01 0.00000000e+00 0.00000000e+00 ... 0.00000000e+00\n",
      "    1.04936314e+00 0.00000000e+00]]\n",
      "\n",
      "  [[2.60206580e-01 0.00000000e+00 0.00000000e+00 ... 0.00000000e+00\n",
      "    0.00000000e+00 0.00000000e+00]\n",
      "   [1.04431629e-01 0.00000000e+00 0.00000000e+00 ... 0.00000000e+00\n",
      "    0.00000000e+00 0.00000000e+00]\n",
      "   [1.50558472e+00 0.00000000e+00 0.00000000e+00 ... 0.00000000e+00\n",
      "    0.00000000e+00 0.00000000e+00]\n",
      "   ...\n",
      "   [1.34955037e+00 0.00000000e+00 0.00000000e+00 ... 0.00000000e+00\n",
      "    0.00000000e+00 0.00000000e+00]\n",
      "   [0.00000000e+00 0.00000000e+00 0.00000000e+00 ... 0.00000000e+00\n",
      "    3.49869370e-01 0.00000000e+00]\n",
      "   [1.11121237e-02 0.00000000e+00 0.00000000e+00 ... 0.00000000e+00\n",
      "    8.20689440e-01 0.00000000e+00]]\n",
      "\n",
      "  [[5.74309826e-02 0.00000000e+00 0.00000000e+00 ... 0.00000000e+00\n",
      "    0.00000000e+00 0.00000000e+00]\n",
      "   [7.16349483e-02 0.00000000e+00 0.00000000e+00 ... 0.00000000e+00\n",
      "    2.00635284e-01 0.00000000e+00]\n",
      "   [1.15909314e+00 0.00000000e+00 1.07602805e-01 ... 0.00000000e+00\n",
      "    2.55918086e-01 0.00000000e+00]\n",
      "   ...\n",
      "   [7.91015506e-01 0.00000000e+00 1.82879388e-01 ... 0.00000000e+00\n",
      "    0.00000000e+00 0.00000000e+00]\n",
      "   [7.91087151e-02 0.00000000e+00 0.00000000e+00 ... 0.00000000e+00\n",
      "    3.87957126e-01 0.00000000e+00]\n",
      "   [3.45767260e-01 0.00000000e+00 0.00000000e+00 ... 0.00000000e+00\n",
      "    4.92587477e-01 0.00000000e+00]]]]\n",
      "rounded test_labels [[1. 0. 0. 0. 0. 0.]\n",
      " [0. 1. 0. 0. 0. 0.]\n",
      " [0. 0. 1. 0. 0. 0.]\n",
      " [0. 0. 1. 0. 0. 0.]\n",
      " [0. 0. 0. 1. 0. 0.]\n",
      " [0. 0. 0. 0. 1. 0.]\n",
      " [0. 0. 0. 0. 1. 0.]\n",
      " [0. 0. 0. 0. 0. 1.]\n",
      " [0. 0. 0. 0. 0. 1.]\n",
      " [0. 0. 0. 0. 0. 1.]]\n"
     ]
    }
   ],
   "source": [
    "print('test data', test_data)\n",
    "preds = np.round(model.predict(test_data),0) \n",
    "#to fit them into classification metrics and confusion metrics, some additional modificaitions are required\n",
    "print('rounded test_labels', preds)"
   ]
  },
  {
   "cell_type": "code",
   "execution_count": 18,
   "metadata": {
    "scrolled": false
   },
   "outputs": [
    {
     "name": "stdout",
     "output_type": "stream",
     "text": [
      "              precision    recall  f1-score   support\n",
      "\n",
      "  Ankle boot       1.00      1.00      1.00         1\n",
      "         Bag       1.00      1.00      1.00         1\n",
      "       Dress       1.00      1.00      1.00         2\n",
      "    Pullover       1.00      1.00      1.00         1\n",
      "      Sandal       1.00      1.00      1.00         2\n",
      "    t-shirts       1.00      1.00      1.00         3\n",
      "\n",
      "   micro avg       1.00      1.00      1.00        10\n",
      "   macro avg       1.00      1.00      1.00        10\n",
      "weighted avg       1.00      1.00      1.00        10\n",
      " samples avg       1.00      1.00      1.00        10\n",
      "\n"
     ]
    }
   ],
   "source": [
    "Fassion = ['Ankle boot', 'Bag', 'Dress', 'Pullover', 'Sandal', 't-shirts']\n",
    "classification_metrics = metrics.classification_report(test_labels, preds, target_names=Fassion )\n",
    "print(classification_metrics)"
   ]
  },
  {
   "cell_type": "markdown",
   "metadata": {},
   "source": [
    "### Confusion Matrix"
   ]
  },
  {
   "cell_type": "code",
   "execution_count": 19,
   "metadata": {},
   "outputs": [],
   "source": [
    "categorical_test_labels = pd.DataFrame(test_labels).idxmax(axis=1)\n",
    "categorical_preds = pd.DataFrame(preds).idxmax(axis=1)"
   ]
  },
  {
   "cell_type": "code",
   "execution_count": 20,
   "metadata": {},
   "outputs": [],
   "source": [
    "confusion_matrix= confusion_matrix(categorical_test_labels, categorical_preds)"
   ]
  },
  {
   "cell_type": "code",
   "execution_count": 21,
   "metadata": {},
   "outputs": [],
   "source": [
    "#To get better visual of the confusion matrix:\n",
    "def plot_confusion_matrix(cm, classes,\n",
    "             normalize=False,\n",
    "             title='Confusion matrix',\n",
    "             cmap=plt.cm.Blues):\n",
    "    #Add Normalization Option\n",
    "    '''prints pretty confusion metric with normalization option '''\n",
    "    if normalize:\n",
    "        cm = cm.astype('float') / cm.sum(axis=1)[:, np.newaxis]\n",
    "        print(\"Normalized confusion matrix\")\n",
    "    else:\n",
    "        print('Confusion matrix, without normalization')\n",
    "    \n",
    "#     print(cm)\n",
    "    \n",
    "    plt.imshow(cm, interpolation='nearest', cmap=cmap)\n",
    "    plt.title(title)\n",
    "    plt.colorbar()\n",
    "    tick_marks = np.arange(len(classes))\n",
    "    plt.xticks(tick_marks, classes, rotation=45)\n",
    "    plt.yticks(tick_marks, classes)\n",
    "    \n",
    "    fmt = '.2f' if normalize else 'd'\n",
    "    thresh = cm.max() / 2.\n",
    "    for i, j in itertools.product(range(cm.shape[0]), range(cm.shape[1])):\n",
    "        plt.text(j, i, format(cm[i, j], fmt), horizontalalignment=\"center\", color=\"white\" if cm[i, j] > thresh else \"black\")\n",
    "    \n",
    "    plt.tight_layout()\n",
    "    plt.ylabel('True label')\n",
    "    plt.xlabel('Predicted label')\n"
   ]
  },
  {
   "cell_type": "code",
   "execution_count": 22,
   "metadata": {},
   "outputs": [
    {
     "name": "stdout",
     "output_type": "stream",
     "text": [
      "Confusion matrix, without normalization\n"
     ]
    },
    {
     "data": {
      "image/png": "[encoded data removed]",
      "text/plain": [
       "<Figure size 432x288 with 2 Axes>"
      ]
     },
     "metadata": {
      "needs_background": "light"
     },
     "output_type": "display_data"
    }
   ],
   "source": [
    "plot_confusion_matrix(confusion_matrix, ['Ankle boot', 'Bag', 'Dress', 'Pullover', 'Sandal', 't-shirts'])"
   ]
  },
  {
   "cell_type": "code",
   "execution_count": 23,
   "metadata": {},
   "outputs": [
    {
     "name": "stdout",
     "output_type": "stream",
     "text": [
      "Normalized confusion matrix\n"
     ]
    },
    {
     "data": {
      "image/png": "[encoded data removed]",
      "text/plain": [
       "<Figure size 432x288 with 2 Axes>"
      ]
     },
     "metadata": {
      "needs_background": "light"
     },
     "output_type": "display_data"
    }
   ],
   "source": [
    "plot_confusion_matrix(confusion_matrix, \n",
    "                      ['Ankle boot', 'Bag', 'Dress', 'Pullover', 'Sandal', 't-shirts'],\n",
    "                     normalize=True)"
   ]
  },
  {
   "cell_type": "markdown",
   "metadata": {},
   "source": [
    "## Testing images on model"
   ]
  },
  {
   "cell_type": "code",
   "execution_count": 24,
   "metadata": {},
   "outputs": [],
   "source": [
    "def read_image(file_path):\n",
    "    print(\"[INFO] loading and preprocessing image...\")  \n",
    "    image = load_img(file_path, target_size=(224, 224))  \n",
    "    image = img_to_array(image)  \n",
    "    image = np.expand_dims(image, axis=0)\n",
    "    image /= 255.  \n",
    "    return image"
   ]
  },
  {
   "cell_type": "code",
   "execution_count": 32,
   "metadata": {},
   "outputs": [],
   "source": [
    "def test_single_image(path):\n",
    "    Fassions = ['Ankle boot', 'Bag', 'Dress', 'Pullover', 'Sandal', 't-shirts']\n",
    "    images = read_image(path)\n",
    "    time.sleep(.5)\n",
    "    bt_prediction = vgg16.predict(images)  \n",
    "    preds = model.predict_proba(bt_prediction)\n",
    "\n",
    "    for idx, fassion, x in zip(range(0,6), Fassions , preds[0]):\n",
    "        \n",
    "        print(\"ID: {}, Label: {} {}%\".format(idx, fassion, round(x*100,2) ))\n",
    "       \n",
    "    print('Final Decision:')\n",
    "    time.sleep(.5)\n",
    "    if (round(x*100,2)>20):\n",
    "        print(\"NOt in the list\")\n",
    "        \n",
    "    else:\n",
    "        for x in range(3):\n",
    "            print('.'*(x+1))\n",
    "            time.sleep(.2)\n",
    "        class_predicted = model.predict_classes(bt_prediction)\n",
    "        class_dictionary = generator_top.class_indices  \n",
    "        inv_map = {v: k for k, v in class_dictionary.items()}  \n",
    "        print(\"ID: {}, Label: {}\".format(class_predicted[0], inv_map[class_predicted[0]]))  \n",
    "        return load_img(path)\n",
    "        "
   ]
  },
  {
   "cell_type": "code",
   "execution_count": 41,
   "metadata": {},
   "outputs": [],
   "source": [
    "path = 'C:\\\\Users\\\\Vinayak\\\\OneDrive\\\\Desktop\\\\Sourabh project\\\\dataset\\\\test\\\\11.jpg  '#add test path for test images"
   ]
  },
  {
   "cell_type": "code",
   "execution_count": 42,
   "metadata": {},
   "outputs": [
    {
     "name": "stdout",
     "output_type": "stream",
     "text": [
      "[INFO] loading and preprocessing image...\n",
      "ID: 0, Label: Ankle boot 4.31%\n",
      "ID: 1, Label: Bag 8.83%\n",
      "ID: 2, Label: Dress 22.81%\n",
      "ID: 3, Label: Pullover 11.48%\n",
      "ID: 4, Label: Sandal 15.36%\n",
      "ID: 5, Label: t-shirts 37.2%\n",
      "Final Decision:\n",
      "NOt in the list\n"
     ]
    }
   ],
   "source": [
    "test_single_image(path)"
   ]
  },
  {
   "cell_type": "code",
   "execution_count": null,
   "metadata": {},
   "outputs": [],
   "source": []
  }
 ],
 "metadata": {
  "kernelspec": {
   "display_name": "Python 3 (ipykernel)",
   "language": "python",
   "name": "python3"
  },
  "language_info": {
   "codemirror_mode": {
    "name": "ipython",
    "version": 3
   },
   "file_extension": ".py",
   "mimetype": "text/x-python",
   "name": "python",
   "nbconvert_exporter": "python",
   "pygments_lexer": "ipython3",
   "version": "3.9.7"
  }
 },
 "nbformat": 4,
 "nbformat_minor": 2
}
